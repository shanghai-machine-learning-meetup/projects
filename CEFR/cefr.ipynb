{
 "cells": [
  {
   "cell_type": "markdown",
   "metadata": {},
   "source": [
    "# Classifier for CEFR Levels"
   ]
  },
  {
   "cell_type": "code",
   "execution_count": 1,
   "metadata": {
    "collapsed": false
   },
   "outputs": [
    {
     "name": "stderr",
     "output_type": "stream",
     "text": [
      "Using gpu device 0: Tesla K80 (CNMeM is disabled, cuDNN 5103)\n",
      "/home/ubuntu/anaconda2/lib/python2.7/site-packages/theano/sandbox/cuda/__init__.py:600: UserWarning: Your cuDNN version is more recent than the one Theano officially supports. If you see any problems, try updating Theano or downgrading cuDNN to version 5.\n",
      "  warnings.warn(warn)\n"
     ]
    }
   ],
   "source": [
    "from theano.sandbox import cuda"
   ]
  },
  {
   "cell_type": "code",
   "execution_count": 2,
   "metadata": {
    "collapsed": false
   },
   "outputs": [
    {
     "name": "stderr",
     "output_type": "stream",
     "text": [
      "Using Theano backend.\n"
     ]
    }
   ],
   "source": [
    "from keras.models import Sequential\n",
    "from keras.layers import Embedding, Dense, Convolution1D, MaxPooling1D, Dropout, Flatten, BatchNormalization"
   ]
  },
  {
   "cell_type": "code",
   "execution_count": 85,
   "metadata": {
    "collapsed": false
   },
   "outputs": [],
   "source": [
    "import numpy as np\n",
    "import string\n",
    "import cPickle as pickle\n",
    "import re\n",
    "import pandas as pd\n",
    "import itertools\n",
    "import bcolz\n",
    "import os\n",
    "from collections import defaultdict\n",
    "from keras.utils.np_utils import to_categorical\n",
    "from keras.utils.data_utils import get_file\n",
    "from keras.preprocessing.sequence import pad_sequences\n",
    "from __future__ import division"
   ]
  },
  {
   "cell_type": "code",
   "execution_count": 4,
   "metadata": {
    "collapsed": true
   },
   "outputs": [],
   "source": [
    "data_path = 'data/sentences/'"
   ]
  },
  {
   "cell_type": "code",
   "execution_count": 5,
   "metadata": {
    "collapsed": true
   },
   "outputs": [],
   "source": [
    "%matplotlib inline"
   ]
  },
  {
   "cell_type": "code",
   "execution_count": 6,
   "metadata": {
    "collapsed": true
   },
   "outputs": [],
   "source": [
    "model_path = 'data/models'"
   ]
  },
  {
   "cell_type": "code",
   "execution_count": 7,
   "metadata": {
    "collapsed": true
   },
   "outputs": [],
   "source": [
    "cefr_levels = ['a1','a2','b1','b2']"
   ]
  },
  {
   "cell_type": "markdown",
   "metadata": {},
   "source": [
    "## Sort data into train, valid, and test sets"
   ]
  },
  {
   "cell_type": "code",
   "execution_count": null,
   "metadata": {
    "collapsed": false
   },
   "outputs": [],
   "source": [
    "%pwd"
   ]
  },
  {
   "cell_type": "code",
   "execution_count": null,
   "metadata": {
    "collapsed": true
   },
   "outputs": [],
   "source": [
    "%mkdir data/train\n",
    "%mkdir data/valid\n",
    "%mkdir data/test"
   ]
  },
  {
   "cell_type": "code",
   "execution_count": 8,
   "metadata": {
    "collapsed": true
   },
   "outputs": [],
   "source": [
    "train_path = 'data/train/'\n",
    "valid_path = 'data/valid/'\n",
    "test_path =  'data/test/'"
   ]
  },
  {
   "cell_type": "code",
   "execution_count": 9,
   "metadata": {
    "collapsed": true
   },
   "outputs": [],
   "source": [
    "def process_line(line):\n",
    "    raw = line.strip().decode('unicode_escape').encode('ascii','ignore')\n",
    "    words = re.findall(r\"\\w+|[^\\w\\s]\", raw, re.UNICODE)\n",
    "    return [word.lower() for word in words]"
   ]
  },
  {
   "cell_type": "markdown",
   "metadata": {
    "collapsed": true
   },
   "source": [
    "## Make a first pass through the data to create an index of all words used."
   ]
  },
  {
   "cell_type": "code",
   "execution_count": 10,
   "metadata": {
    "collapsed": false
   },
   "outputs": [
    {
     "name": "stdout",
     "output_type": "stream",
     "text": [
      "[('.', 15372), ('the', 12689), (',', 12559), ('to', 6580), ('and', 5894), ('of', 5629), ('a', 5283), ('i', 3822), ('in', 3132), ('you', 2981), ('that', 2808), ('he', 2681), ('it', 2551), ('said', 2160), ('is', 2109), ('was', 1937), ('?', 1790), ('be', 1784), (\"'\", 1689), ('as', 1591), ('not', 1579), ('for', 1537), ('but', 1524), ('at', 1504), ('have', 1492), ('if', 1443), ('his', 1415), ('on', 1273), ('with', 1264), ('they', 1238), ('she', 1210), ('do', 1201), ('we', 1180), ('this', 1127), ('what', 1037), ('will', 1023), ('looked', 1017), ('her', 1011), ('!', 1008), ('had', 972), ('are', 962), ('-', 953), ('all', 903), ('its', 792), ('up', 783), ('were', 779), ('by', 747), ('so', 735), ('from', 729), ('an', 723)]\n"
     ]
    }
   ],
   "source": [
    "base_file = '_sentences.txt'\n",
    "idx = defaultdict(int)\n",
    "for l in range(len(cefr_levels)):\n",
    "    with open(data_path + cefr_levels[l] + base_file,'r') as f:\n",
    "        for line in f:\n",
    "            words = process_line(line)\n",
    "            for word in words:\n",
    "                idx[word] += 1\n",
    "\n",
    "final_words = sorted(idx.items(), key=lambda x: x[1])\n",
    "final_words.reverse()\n",
    "print(final_words[:50])\n",
    "idx2word = [ i[0] for i in final_words ]\n",
    "word2idx = dict((v,k) for k,v in enumerate(idx2word))\n",
    "\n",
    "pickle.dump(idx2word,  open(data_path + \"idx2word.p\", 'wb'))\n",
    "pickle.dump(word2idx,  open(data_path + \"word2idx.p\", 'wb'))"
   ]
  },
  {
   "cell_type": "code",
   "execution_count": 15,
   "metadata": {
    "collapsed": true
   },
   "outputs": [],
   "source": [
    "train_share = 0.65\n",
    "valid_share = 0.2\n",
    "test_share = 0.15\n",
    "assert train_share + valid_share + test_share == 1"
   ]
  },
  {
   "cell_type": "code",
   "execution_count": 172,
   "metadata": {
    "collapsed": false
   },
   "outputs": [
    {
     "name": "stdout",
     "output_type": "stream",
     "text": [
      "('a1', 2487)\n",
      "('a2', 5110)\n",
      "('b1', 6371)\n",
      "('b2', 4806)\n",
      "18774\n"
     ]
    }
   ],
   "source": [
    "base_file = '_sentences.txt'\n",
    "total_count = 0\n",
    "train = np.empty((1,2),dtype='object')\n",
    "valid = np.empty((1,2),dtype='object')\n",
    "test  = np.empty((1,2),dtype='object')\n",
    "for l in range(len(cefr_levels)):\n",
    "    level = []\n",
    "    with open(data_path + cefr_levels[l] + base_file,'r') as f:\n",
    "        for line in f:\n",
    "            words = process_line(line)\n",
    "            level.append((words,l))\n",
    "    count = len(level)\n",
    "    total_count += count\n",
    "    print(cefr_levels[l],count)\n",
    "    train_idx = int(train_share * count)\n",
    "    valid_idx = int(valid_share * count) + train_idx\n",
    "    shuf = np.random.permutation(level)\n",
    "    train = np.concatenate((train, shuf[:train_idx]))\n",
    "    valid = np.concatenate((valid, shuf[train_idx:valid_idx]))\n",
    "    test  = np.concatenate((test,  shuf[valid_idx:]))\n",
    "\n",
    "pickle.dump(np.random.permutation(train[1:]), open(train_path + \"sentences.p\", 'wb'))  \n",
    "pickle.dump(np.random.permutation(valid[1:]), open(valid_path + \"sentences.p\", 'wb'))\n",
    "pickle.dump(np.random.permutation(test[1:]),  open(test_path + \"sentences.p\", 'wb'))\n",
    "\n",
    "print(total_count)"
   ]
  },
  {
   "cell_type": "markdown",
   "metadata": {
    "collapsed": false
   },
   "source": [
    "### Load and process data"
   ]
  },
  {
   "cell_type": "code",
   "execution_count": 173,
   "metadata": {
    "collapsed": false
   },
   "outputs": [],
   "source": [
    "idx2word = pickle.load(open(data_path + \"idx2word.p\", 'rb'))\n",
    "word2idx = pickle.load(open(data_path + \"word2idx.p\", 'rb'))\n",
    "\n",
    "train_file = pickle.load(open(train_path + 'sentences.p','rb'))\n",
    "valid_file = pickle.load(open(valid_path + 'sentences.p','rb'))\n",
    "test_file  = pickle.load(open(test_path + 'sentences.p','rb'))\n",
    "\n",
    "train, train_labels = zip(*train_file)\n",
    "valid, valid_labels = zip(*valid_file)\n",
    "test, test_labels   = zip(*test_file)"
   ]
  },
  {
   "cell_type": "code",
   "execution_count": 174,
   "metadata": {
    "collapsed": true
   },
   "outputs": [],
   "source": [
    "assert len(train) + len(valid) + len(test) == total_count"
   ]
  },
  {
   "cell_type": "markdown",
   "metadata": {},
   "source": [
    "## Limit vocab size"
   ]
  },
  {
   "cell_type": "code",
   "execution_count": 175,
   "metadata": {
    "collapsed": false
   },
   "outputs": [],
   "source": [
    "vocab_size = 5000\n",
    "train = [np.array([word2idx[i] if word2idx[i] <= vocab_size-1 else vocab_size-1 for i in line ]) for line in train]\n",
    "valid = [np.array([word2idx[i] if word2idx[i] <= vocab_size-1 else vocab_size-1 for i in line ]) for line in valid]\n",
    "test  = [np.array([word2idx[i] if word2idx[i] <= vocab_size-1 else vocab_size-1 for i in line ]) for line in test]"
   ]
  },
  {
   "cell_type": "markdown",
   "metadata": {},
   "source": [
    "## Data augmentation (experimental and apparently useless)"
   ]
  },
  {
   "cell_type": "code",
   "execution_count": 68,
   "metadata": {
    "collapsed": true
   },
   "outputs": [],
   "source": [
    "subs = {\n",
    "    'dog':'cat',\n",
    "    'cat':'dog',\n",
    "    'he':'she',\n",
    "    'she':'he',\n",
    "    'him':'her',\n",
    "    'her':'him',\n",
    "    'this':'that',\n",
    "    'that':'this',\n",
    "    'these':'those',\n",
    "    'those':'these',\n",
    "    'like':'love',\n",
    "    'likes':'loves',\n",
    "    'is':'was',\n",
    "    'was':'is',\n",
    "    'have':'had',\n",
    "    'had':'have'\n",
    "}"
   ]
  },
  {
   "cell_type": "code",
   "execution_count": 69,
   "metadata": {
    "collapsed": false
   },
   "outputs": [],
   "source": [
    "sub2idx = {word2idx[key]: word2idx[value] for key,value in subs.iteritems()}\n",
    "dogidx = word2idx['dog']\n",
    "assert sub2idx[dogidx] == word2idx['cat']"
   ]
  },
  {
   "cell_type": "code",
   "execution_count": 70,
   "metadata": {
    "collapsed": true
   },
   "outputs": [],
   "source": [
    "def augment_line(line):\n",
    "    augmented = []\n",
    "    for word in line:\n",
    "        if word in sub2idx:\n",
    "            augmented.append(sub2idx[word])\n",
    "        else:\n",
    "            augmented.append(word)\n",
    "    return augmented"
   ]
  },
  {
   "cell_type": "code",
   "execution_count": 71,
   "metadata": {
    "collapsed": false
   },
   "outputs": [],
   "source": [
    "train_aug = []\n",
    "train_labels_aug = []\n",
    "for i in range(len(train)):\n",
    "    line = train[i]\n",
    "    augmented = augment_line(line)\n",
    "    if not np.array_equal(augmented,line):\n",
    "        train_aug.append(augmented)\n",
    "        train_labels_aug.append(train_labels[i])\n",
    "train_aug = np.concatenate((train, train_aug))\n",
    "train_labels_aug = np.concatenate((train_labels,train_labels_aug))"
   ]
  },
  {
   "cell_type": "code",
   "execution_count": 72,
   "metadata": {
    "collapsed": false
   },
   "outputs": [
    {
     "name": "stdout",
     "output_type": "stream",
     "text": [
      "18690\n"
     ]
    }
   ],
   "source": [
    "print(len(train_aug))"
   ]
  },
  {
   "cell_type": "code",
   "execution_count": 179,
   "metadata": {
    "collapsed": false
   },
   "outputs": [
    {
     "data": {
      "text/plain": [
       "'in this connection it is worth wrinkled the wrinkled of the great theoretical physicist j .'"
      ]
     },
     "execution_count": 179,
     "metadata": {},
     "output_type": "execute_result"
    }
   ],
   "source": [
    "' '.join(idx2word[i] for i in train[0])"
   ]
  },
  {
   "cell_type": "markdown",
   "metadata": {},
   "source": [
    "## Use one-hot encoding on the labels:"
   ]
  },
  {
   "cell_type": "code",
   "execution_count": 177,
   "metadata": {
    "collapsed": false
   },
   "outputs": [],
   "source": [
    "train_labels = to_categorical(train_labels)\n",
    "valid_labels = to_categorical(valid_labels)\n",
    "test_labels = to_categorical(test_labels)\n",
    "#train_labels_aug = to_categorical(train_labels_aug)"
   ]
  },
  {
   "cell_type": "code",
   "execution_count": 178,
   "metadata": {
    "collapsed": false
   },
   "outputs": [
    {
     "data": {
      "text/plain": [
       "array([ 0.,  0.,  0.,  1.])"
      ]
     },
     "execution_count": 178,
     "metadata": {},
     "output_type": "execute_result"
    }
   ],
   "source": [
    "train_labels[0]"
   ]
  },
  {
   "cell_type": "markdown",
   "metadata": {},
   "source": [
    "### Make sure all sets have the same ratios of each of the 4 CEFR labels."
   ]
  },
  {
   "cell_type": "code",
   "execution_count": 180,
   "metadata": {
    "collapsed": true
   },
   "outputs": [],
   "source": [
    "def check_ratios(labels):\n",
    "    length = float(len(labels))\n",
    "    a1 = sum(labels[i][0] for i in range(len(labels)))\n",
    "    a2 = sum(labels[i][1] for i in range(len(labels)))\n",
    "    b1 = sum(labels[i][2] for i in range(len(labels)))\n",
    "    b2 = sum(labels[i][3] for i in range(len(labels)))\n",
    "    return (a1 / length, a2 / length, b1 / length, b2 / length)"
   ]
  },
  {
   "cell_type": "code",
   "execution_count": 181,
   "metadata": {
    "collapsed": false
   },
   "outputs": [
    {
     "name": "stdout",
     "output_type": "stream",
     "text": [
      "(0.13267115998581058, 0.27208229868747785, 0.33912735012415751, 0.25611919120255411)\n"
     ]
    }
   ],
   "source": [
    "ratios = check_ratios(test_labels)\n",
    "print ratios"
   ]
  },
  {
   "cell_type": "markdown",
   "metadata": {},
   "source": [
    "### Pad sequences"
   ]
  },
  {
   "cell_type": "code",
   "execution_count": null,
   "metadata": {
    "collapsed": false
   },
   "outputs": [],
   "source": [
    "max_len = [np.max([len(i) for i in j] for j in [train,valid,test])]"
   ]
  },
  {
   "cell_type": "code",
   "execution_count": 182,
   "metadata": {
    "collapsed": false
   },
   "outputs": [],
   "source": [
    "seq_len = 150\n",
    "train = pad_sequences(train, maxlen=seq_len, value=0)\n",
    "train_aug = pad_sequences(train_aug, maxlen=seq_len, value=0)\n",
    "valid = pad_sequences(valid, maxlen=seq_len, value=0)\n",
    "test = pad_sequences(test, maxlen=seq_len, value=0)"
   ]
  },
  {
   "cell_type": "markdown",
   "metadata": {},
   "source": [
    "## Build basic dense model"
   ]
  },
  {
   "cell_type": "code",
   "execution_count": 183,
   "metadata": {
    "collapsed": false
   },
   "outputs": [],
   "source": [
    "model = Sequential()\n",
    "model.add(Embedding(vocab_size,32,input_length=seq_len))\n",
    "model.add(Flatten())\n",
    "model.add(Dense(100, activation='relu'))\n",
    "model.add(Dropout(0.8))\n",
    "model.add(Dense(4,activation='softmax'))"
   ]
  },
  {
   "cell_type": "code",
   "execution_count": null,
   "metadata": {
    "collapsed": false
   },
   "outputs": [],
   "source": [
    "model.summary()"
   ]
  },
  {
   "cell_type": "code",
   "execution_count": 184,
   "metadata": {
    "collapsed": false
   },
   "outputs": [],
   "source": [
    "model.compile(optimizer='adam',loss='binary_crossentropy', metrics=['accuracy'])"
   ]
  },
  {
   "cell_type": "code",
   "execution_count": 185,
   "metadata": {
    "collapsed": false
   },
   "outputs": [
    {
     "name": "stdout",
     "output_type": "stream",
     "text": [
      "Train on 12201 samples, validate on 3754 samples\n",
      "Epoch 1/5\n",
      "12201/12201 [==============================] - 1s - loss: 0.4932 - acc: 0.7611 - val_loss: 0.4030 - val_acc: 0.8109\n",
      "Epoch 2/5\n",
      "12201/12201 [==============================] - 1s - loss: 0.3471 - acc: 0.8461 - val_loss: 0.2317 - val_acc: 0.9031\n",
      "Epoch 3/5\n",
      "12201/12201 [==============================] - 1s - loss: 0.2005 - acc: 0.9206 - val_loss: 0.1675 - val_acc: 0.9349\n",
      "Epoch 4/5\n",
      "12201/12201 [==============================] - 1s - loss: 0.1353 - acc: 0.9517 - val_loss: 0.1569 - val_acc: 0.9380\n",
      "Epoch 5/5\n",
      "12201/12201 [==============================] - 1s - loss: 0.1059 - acc: 0.9638 - val_loss: 0.1591 - val_acc: 0.9381\n"
     ]
    },
    {
     "data": {
      "text/plain": [
       "<keras.callbacks.History at 0x7fe6b5b15390>"
      ]
     },
     "execution_count": 185,
     "metadata": {},
     "output_type": "execute_result"
    }
   ],
   "source": [
    "model.fit(train, train_labels, validation_data=(valid,valid_labels), nb_epoch=5, batch_size=64)"
   ]
  },
  {
   "cell_type": "code",
   "execution_count": 124,
   "metadata": {
    "collapsed": false
   },
   "outputs": [
    {
     "name": "stdout",
     "output_type": "stream",
     "text": [
      "Train on 12201 samples, validate on 3754 samples\n",
      "Epoch 1/5\n",
      "12201/12201 [==============================] - 1s - loss: 0.0872 - acc: 0.9708 - val_loss: 0.1749 - val_acc: 0.9375\n",
      "Epoch 2/5\n",
      "12201/12201 [==============================] - 1s - loss: 0.0757 - acc: 0.9750 - val_loss: 0.1787 - val_acc: 0.9400\n",
      "Epoch 3/5\n",
      "12201/12201 [==============================] - 1s - loss: 0.0622 - acc: 0.9798 - val_loss: 0.1912 - val_acc: 0.9387\n",
      "Epoch 4/5\n",
      "12201/12201 [==============================] - 1s - loss: 0.0541 - acc: 0.9819 - val_loss: 0.2007 - val_acc: 0.9363\n",
      "Epoch 5/5\n",
      "12201/12201 [==============================] - 1s - loss: 0.0480 - acc: 0.9852 - val_loss: 0.2138 - val_acc: 0.9342\n"
     ]
    },
    {
     "data": {
      "text/plain": [
       "<keras.callbacks.History at 0x7fe6c0f91250>"
      ]
     },
     "execution_count": 124,
     "metadata": {},
     "output_type": "execute_result"
    }
   ],
   "source": [
    "model.optimizer.lr = 0.0000001\n",
    "model.fit(train, train_labels, validation_data=(valid,valid_labels), nb_epoch=5, batch_size=64)"
   ]
  },
  {
   "cell_type": "markdown",
   "metadata": {},
   "source": [
    "## CNN with single convolutional layer"
   ]
  },
  {
   "cell_type": "code",
   "execution_count": 130,
   "metadata": {
    "collapsed": false
   },
   "outputs": [],
   "source": [
    "cnn = Sequential()\n",
    "cnn.add(Embedding(vocab_size,64,input_length=seq_len,dropout=0.2))\n",
    "cnn.add(Convolution1D(64,5,border_mode='same', activation='relu'))\n",
    "cnn.add(Dropout(0.2))\n",
    "cnn.add(MaxPooling1D())\n",
    "cnn.add(Flatten())\n",
    "cnn.add(Dense(100,activation='relu'))\n",
    "cnn.add(Dropout(0.8))\n",
    "cnn.add(Dense(4,activation='softmax'))"
   ]
  },
  {
   "cell_type": "code",
   "execution_count": null,
   "metadata": {
    "collapsed": false
   },
   "outputs": [],
   "source": [
    "cnn.summary()"
   ]
  },
  {
   "cell_type": "code",
   "execution_count": 131,
   "metadata": {
    "collapsed": true
   },
   "outputs": [],
   "source": [
    "cnn.compile(optimizer='adam',loss='binary_crossentropy', metrics=['accuracy'])"
   ]
  },
  {
   "cell_type": "code",
   "execution_count": 132,
   "metadata": {
    "collapsed": false
   },
   "outputs": [
    {
     "name": "stdout",
     "output_type": "stream",
     "text": [
      "Train on 12201 samples, validate on 3754 samples\n",
      "Epoch 1/6\n",
      "12201/12201 [==============================] - 4s - loss: 0.4546 - acc: 0.7830 - val_loss: 0.3145 - val_acc: 0.8632\n",
      "Epoch 2/6\n",
      "12201/12201 [==============================] - 4s - loss: 0.2977 - acc: 0.8725 - val_loss: 0.2135 - val_acc: 0.9088\n",
      "Epoch 3/6\n",
      "12201/12201 [==============================] - 4s - loss: 0.2377 - acc: 0.9017 - val_loss: 0.1852 - val_acc: 0.9202\n",
      "Epoch 4/6\n",
      "12201/12201 [==============================] - 4s - loss: 0.2033 - acc: 0.9188 - val_loss: 0.1684 - val_acc: 0.9343\n",
      "Epoch 5/6\n",
      "12201/12201 [==============================] - 4s - loss: 0.1801 - acc: 0.9314 - val_loss: 0.1588 - val_acc: 0.9380\n",
      "Epoch 6/6\n",
      "12201/12201 [==============================] - 4s - loss: 0.1553 - acc: 0.9400 - val_loss: 0.1552 - val_acc: 0.9406\n"
     ]
    },
    {
     "data": {
      "text/plain": [
       "<keras.callbacks.History at 0x7fe6be050890>"
      ]
     },
     "execution_count": 132,
     "metadata": {},
     "output_type": "execute_result"
    }
   ],
   "source": [
    "cnn.fit(train, train_labels, validation_data=(valid,valid_labels), nb_epoch=6, batch_size=64)"
   ]
  },
  {
   "cell_type": "code",
   "execution_count": 128,
   "metadata": {
    "collapsed": true
   },
   "outputs": [],
   "source": [
    "cnn.optimizer.lr = 0.000001"
   ]
  },
  {
   "cell_type": "code",
   "execution_count": 133,
   "metadata": {
    "collapsed": false
   },
   "outputs": [],
   "source": [
    "cnn.save_weights(model_path + 'cnn1.h5')"
   ]
  },
  {
   "cell_type": "code",
   "execution_count": null,
   "metadata": {
    "collapsed": true
   },
   "outputs": [],
   "source": [
    "cnn.load_weights(model_path + 'cnn1.h5')"
   ]
  },
  {
   "cell_type": "markdown",
   "metadata": {},
   "source": [
    "## Using pre-trained embeddings"
   ]
  },
  {
   "cell_type": "code",
   "execution_count": 107,
   "metadata": {
    "collapsed": true
   },
   "outputs": [],
   "source": [
    "def load_array(arr):\n",
    "    return bcolz.open(arr)[:]\n",
    "\n",
    "def load_vectors(loc):\n",
    "    return (load_array(loc+'.dat'),\n",
    "        pickle.load(open(loc+'_words.pkl','rb')),\n",
    "        pickle.load(open(loc+'_idx.pkl','rb')))"
   ]
  },
  {
   "cell_type": "code",
   "execution_count": 186,
   "metadata": {
    "collapsed": false
   },
   "outputs": [],
   "source": [
    "vecs, words, wordidx = load_vectors('data/glove/results/6B.300d')"
   ]
  },
  {
   "cell_type": "code",
   "execution_count": 187,
   "metadata": {
    "collapsed": false
   },
   "outputs": [],
   "source": [
    "def create_embedding():\n",
    "    num_factors = vecs.shape[1]\n",
    "    emb = np.zeros((vocab_size,num_factors))\n",
    "    \n",
    "    for i in range(1,len(emb)):\n",
    "        word = idx2word[i]\n",
    "        if word and word in wordidx:\n",
    "            emb[i] = vecs[wordidx[word]]\n",
    "        elif word and re.match(r\"^[a-zA-Z0-9\\-]*$\", word):\n",
    "            emb[i] = np.random.normal(scale=0.6,size=(num_factors,))\n",
    "        else:\n",
    "            emb[i] = np.random.normal(scale=0.6,size=(num_factors,))\n",
    "    \n",
    "    emb[-1] = np.random.normal(scale=0.6,size=(num_factors,))\n",
    "    emb/= 3\n",
    "    return emb\n",
    "\n",
    "emb = create_embedding()        \n",
    "        "
   ]
  },
  {
   "cell_type": "code",
   "execution_count": 188,
   "metadata": {
    "collapsed": false
   },
   "outputs": [
    {
     "data": {
      "text/plain": [
       "(5000, 300)"
      ]
     },
     "execution_count": 188,
     "metadata": {},
     "output_type": "execute_result"
    }
   ],
   "source": [
    "emb.shape"
   ]
  },
  {
   "cell_type": "code",
   "execution_count": 208,
   "metadata": {
    "collapsed": false
   },
   "outputs": [],
   "source": [
    "glove = Sequential()\n",
    "glove.add(Embedding(vocab_size,emb.shape[1],input_length=seq_len,dropout=0.2, weights=[emb], trainable=True))\n",
    "glove.add(Convolution1D(64,3,border_mode='same', activation='relu'))\n",
    "glove.add(Dropout(0.2))\n",
    "glove.add(BatchNormalization())\n",
    "glove.add(MaxPooling1D())\n",
    "\n",
    "glove.add(Flatten())\n",
    "glove.add(Dense(100,activation='relu'))\n",
    "glove.add(Dropout(0.75))\n",
    "glove.add(BatchNormalization())\n",
    "glove.add(Dense(4,activation='softmax'))"
   ]
  },
  {
   "cell_type": "code",
   "execution_count": 209,
   "metadata": {
    "collapsed": true
   },
   "outputs": [],
   "source": [
    "glove.compile(optimizer='adam',loss='binary_crossentropy', metrics=['accuracy'])"
   ]
  },
  {
   "cell_type": "code",
   "execution_count": 119,
   "metadata": {
    "collapsed": true
   },
   "outputs": [],
   "source": [
    "glove.optimizer.lr = 0.0001"
   ]
  },
  {
   "cell_type": "code",
   "execution_count": 210,
   "metadata": {
    "collapsed": false
   },
   "outputs": [
    {
     "name": "stdout",
     "output_type": "stream",
     "text": [
      "Train on 12201 samples, validate on 3754 samples\n",
      "Epoch 1/10\n",
      "12201/12201 [==============================] - 8s - loss: 0.4686 - acc: 0.7832 - val_loss: 0.5123 - val_acc: 0.7519\n",
      "Epoch 2/10\n",
      "12201/12201 [==============================] - 8s - loss: 0.3425 - acc: 0.8469 - val_loss: 0.4258 - val_acc: 0.7939\n",
      "Epoch 3/10\n",
      "12201/12201 [==============================] - 8s - loss: 0.2723 - acc: 0.8854 - val_loss: 0.2896 - val_acc: 0.8875\n",
      "Epoch 4/10\n",
      "12201/12201 [==============================] - 8s - loss: 0.2216 - acc: 0.9114 - val_loss: 0.2093 - val_acc: 0.9216\n",
      "Epoch 5/10\n",
      "12201/12201 [==============================] - 8s - loss: 0.1969 - acc: 0.9237 - val_loss: 0.1920 - val_acc: 0.9245\n",
      "Epoch 6/10\n",
      "12201/12201 [==============================] - 8s - loss: 0.1788 - acc: 0.9315 - val_loss: 0.1628 - val_acc: 0.9350\n",
      "Epoch 7/10\n",
      "12201/12201 [==============================] - 8s - loss: 0.1700 - acc: 0.9354 - val_loss: 0.1750 - val_acc: 0.9276\n",
      "Epoch 8/10\n",
      "12201/12201 [==============================] - 8s - loss: 0.1576 - acc: 0.9412 - val_loss: 0.1580 - val_acc: 0.9347\n",
      "Epoch 9/10\n",
      "12201/12201 [==============================] - 8s - loss: 0.1439 - acc: 0.9468 - val_loss: 0.1726 - val_acc: 0.9306\n",
      "Epoch 10/10\n",
      "12201/12201 [==============================] - 8s - loss: 0.1403 - acc: 0.9489 - val_loss: 0.1613 - val_acc: 0.9361\n"
     ]
    },
    {
     "data": {
      "text/plain": [
       "<keras.callbacks.History at 0x7fe6ad417750>"
      ]
     },
     "execution_count": 210,
     "metadata": {},
     "output_type": "execute_result"
    }
   ],
   "source": [
    "glove.fit(train, train_labels, validation_data=(valid,valid_labels), nb_epoch=10, batch_size=64)"
   ]
  },
  {
   "cell_type": "code",
   "execution_count": 56,
   "metadata": {
    "collapsed": false
   },
   "outputs": [],
   "source": [
    "glove.optimizer.lr = 0.00000001\n",
    "glove.layers[0].trainable = True"
   ]
  },
  {
   "cell_type": "code",
   "execution_count": 57,
   "metadata": {
    "collapsed": false
   },
   "outputs": [
    {
     "name": "stdout",
     "output_type": "stream",
     "text": [
      "Train on 12201 samples, validate on 3754 samples\n",
      "Epoch 1/6\n",
      "12201/12201 [==============================] - 8s - loss: 0.0907 - acc: 0.9674 - val_loss: 0.1688 - val_acc: 0.9363\n",
      "Epoch 2/6\n",
      "12201/12201 [==============================] - 8s - loss: 0.0885 - acc: 0.9693 - val_loss: 0.1898 - val_acc: 0.9331\n",
      "Epoch 3/6\n",
      "12201/12201 [==============================] - 8s - loss: 0.0855 - acc: 0.9698 - val_loss: 0.1738 - val_acc: 0.9359\n",
      "Epoch 4/6\n",
      "12201/12201 [==============================] - 8s - loss: 0.0841 - acc: 0.9702 - val_loss: 0.1871 - val_acc: 0.9332\n",
      "Epoch 5/6\n",
      "12201/12201 [==============================] - 8s - loss: 0.0802 - acc: 0.9714 - val_loss: 0.1885 - val_acc: 0.9337\n",
      "Epoch 6/6\n",
      "12201/12201 [==============================] - 8s - loss: 0.0757 - acc: 0.9729 - val_loss: 0.1769 - val_acc: 0.9343\n"
     ]
    },
    {
     "data": {
      "text/plain": [
       "<keras.callbacks.History at 0x7fe69f052d50>"
      ]
     },
     "execution_count": 57,
     "metadata": {},
     "output_type": "execute_result"
    }
   ],
   "source": [
    "glove.fit(train, train_labels, validation_data=(valid,valid_labels), nb_epoch=6, batch_size=64)"
   ]
  },
  {
   "cell_type": "code",
   "execution_count": 232,
   "metadata": {
    "collapsed": true
   },
   "outputs": [],
   "source": [
    "glove.save_weights(model_path + 'glove1.h5')"
   ]
  },
  {
   "cell_type": "code",
   "execution_count": 233,
   "metadata": {
    "collapsed": false
   },
   "outputs": [],
   "source": [
    "glove.load_weights(model_path + 'glove1.h5')"
   ]
  },
  {
   "cell_type": "markdown",
   "metadata": {},
   "source": [
    "## Check results of predictions on the test set."
   ]
  },
  {
   "cell_type": "code",
   "execution_count": 224,
   "metadata": {
    "collapsed": false
   },
   "outputs": [
    {
     "data": {
      "text/plain": [
       "(2819, 150)"
      ]
     },
     "execution_count": 224,
     "metadata": {},
     "output_type": "execute_result"
    }
   ],
   "source": [
    "test.shape"
   ]
  },
  {
   "cell_type": "code",
   "execution_count": 225,
   "metadata": {
    "collapsed": false
   },
   "outputs": [],
   "source": [
    "preds = glove.predict(test,batch_size=64)"
   ]
  },
  {
   "cell_type": "code",
   "execution_count": 226,
   "metadata": {
    "collapsed": false
   },
   "outputs": [],
   "source": [
    "predicted_labels = ([np.argmax(p) for p in preds])\n",
    "expected_labels = ([np.argmax(p) for p in test_labels])"
   ]
  },
  {
   "cell_type": "code",
   "execution_count": 227,
   "metadata": {
    "collapsed": false
   },
   "outputs": [],
   "source": [
    "from sklearn.metrics import confusion_matrix\n",
    "cm = confusion_matrix(expected_labels, predicted_labels)"
   ]
  },
  {
   "cell_type": "code",
   "execution_count": 228,
   "metadata": {
    "collapsed": false
   },
   "outputs": [],
   "source": [
    "from matplotlib import pyplot as plt\n",
    "def plot_confusion_matrix(cm, classes, normalize=False, title='Confusion matrix', cmap=plt.cm.Blues):\n",
    "    \"\"\"\n",
    "    This function prints and plots the confusion matrix.\n",
    "    Normalization can be applied by setting `normalize=True`.\n",
    "    (This function is copied from the scikit docs.)\n",
    "    \"\"\"\n",
    "    plt.figure()\n",
    "    plt.imshow(cm, interpolation='nearest', cmap=cmap)\n",
    "    plt.title(title)\n",
    "    plt.colorbar()\n",
    "    tick_marks = np.arange(len(classes))\n",
    "    plt.xticks(tick_marks, classes, rotation=45)\n",
    "    plt.yticks(tick_marks, classes)\n",
    "\n",
    "    if normalize:\n",
    "        cm = cm.astype('float') / cm.sum(axis=1)[:, np.newaxis]\n",
    "    print(cm)\n",
    "    thresh = cm.max() / 2.\n",
    "    for i, j in itertools.product(range(cm.shape[0]), range(cm.shape[1])):\n",
    "        plt.text(j, i, cm[i, j], horizontalalignment=\"center\", color=\"white\" if cm[i, j] > thresh else \"black\")\n",
    "\n",
    "    plt.tight_layout()\n",
    "    plt.ylabel('True label')\n",
    "    plt.xlabel('Predicted label')"
   ]
  },
  {
   "cell_type": "code",
   "execution_count": 229,
   "metadata": {
    "collapsed": false
   },
   "outputs": [
    {
     "name": "stdout",
     "output_type": "stream",
     "text": [
      "[[237  98  33   6]\n",
      " [  6 693  51  17]\n",
      " [  5  54 852  45]\n",
      " [  0  16  56 650]]\n"
     ]
    },
    {
     "data": {
      "image/png": "[encoded data removed]",
      "text/plain": [
       "<matplotlib.figure.Figure at 0x7fe6ac5f9190>"
      ]
     },
     "metadata": {},
     "output_type": "display_data"
    }
   ],
   "source": [
    "plot_confusion_matrix(cm, cefr_levels)"
   ]
  },
  {
   "cell_type": "code",
   "execution_count": 231,
   "metadata": {
    "collapsed": false
   },
   "outputs": [
    {
     "name": "stdout",
     "output_type": "stream",
     "text": [
      "387\n",
      "Accuracy:0.86271727563\n"
     ]
    }
   ],
   "source": [
    "# Cases where the model guessed incorrectly\n",
    "errors = 0\n",
    "for i in range(len(expected_labels)):\n",
    "    if expected_labels[i] != predicted_labels[i]:\n",
    "        errors += 1\n",
    "        #print expected_labels[i]\n",
    "        #print predicted_labels[i]\n",
    "        #print ' '.join([idx2word[w] for w in test[i]])\n",
    "print(errors)\n",
    "print('Accuracy: ' + str(1.0 - (errors / len(test))))"
   ]
  },
  {
   "cell_type": "markdown",
   "metadata": {
    "collapsed": true
   },
   "source": [
    "## Try using pseudolabeled IMDB data\n",
    "#### (Seems ineffective)"
   ]
  },
  {
   "cell_type": "code",
   "execution_count": 217,
   "metadata": {
    "collapsed": true
   },
   "outputs": [],
   "source": [
    "from keras.datasets import imdb\n",
    "idx = imdb.get_word_index()\n",
    "idx_arr = sorted(idx, key=idx.get)\n",
    "imdb_idx2word = {v: k for k, v in idx.iteritems()}"
   ]
  },
  {
   "cell_type": "code",
   "execution_count": 218,
   "metadata": {
    "collapsed": true
   },
   "outputs": [],
   "source": [
    "path = get_file('imdb_full.pkl',\n",
    "                origin='https://s3.amazonaws.com/text-datasets/imdb_full.pkl',\n",
    "                md5_hash='d091312047c43cf9e4e38fef92437263')\n",
    "f = open(path, 'rb')\n",
    "(imdb_train,imdb_labels), (imdb_test, imdb_test_labels) = pickle.load(f)"
   ]
  },
  {
   "cell_type": "code",
   "execution_count": 150,
   "metadata": {
    "collapsed": false
   },
   "outputs": [
    {
     "data": {
      "text/plain": [
       "\"bromwell high is a cartoon comedy it ran at the same time as some other programs about school life such as teachers my 35 years in the teaching profession lead me to believe that bromwell high's satire is much closer to reality than is teachers the scramble to survive financially the insightful students who can see right through their pathetic teachers' pomp the pettiness of the whole situation all remind me of the schools i knew and their students when i saw the episode in which a student repeatedly tried to burn down the school i immediately recalled at high a classic line inspector i'm here to sack one of your teachers student welcome to bromwell high i expect that many adults of my age think that bromwell high is far fetched what a pity that it isn't\""
      ]
     },
     "execution_count": 150,
     "metadata": {},
     "output_type": "execute_result"
    }
   ],
   "source": [
    "review1 = [imdb_idx2word[x] for x in imdb_train[0]]\n",
    "' '.join(review1)"
   ]
  },
  {
   "cell_type": "code",
   "execution_count": 219,
   "metadata": {
    "collapsed": false
   },
   "outputs": [],
   "source": [
    "vocab_size = 5000\n",
    "imdb_train = [np.array([i if i<=vocab_size-1 else vocab_size-1 for i in s]) for s in imdb_train]"
   ]
  },
  {
   "cell_type": "code",
   "execution_count": 152,
   "metadata": {
    "collapsed": false
   },
   "outputs": [
    {
     "name": "stdout",
     "output_type": "stream",
     "text": [
      "wrinkled\n"
     ]
    }
   ],
   "source": [
    "print(idx2word[4999])"
   ]
  },
  {
   "cell_type": "code",
   "execution_count": 220,
   "metadata": {
    "collapsed": false
   },
   "outputs": [
    {
     "data": {
      "text/plain": [
       "(25000, 150)"
      ]
     },
     "execution_count": 220,
     "metadata": {},
     "output_type": "execute_result"
    }
   ],
   "source": [
    "seq_len = 150\n",
    "\n",
    "imdb_train = pad_sequences(imdb_train, maxlen=seq_len, value=0)\n",
    "imdb_train.shape"
   ]
  },
  {
   "cell_type": "code",
   "execution_count": 221,
   "metadata": {
    "collapsed": false
   },
   "outputs": [
    {
     "name": "stdout",
     "output_type": "stream",
     "text": [
      "[   0    0    0    0    0    0    0    0    0    0    0    0 4999  309    6\n",
      "    3 1069  209    9 2175   30    1  169   55   14   46   82 4999   41  393\n",
      "  110  138   14 4999   58 4477  150    8    1 4999 4999  482   69    5  261\n",
      "   12 4999 4999 2003    6   73 2436    5  632   71    6 4999    1 4999    5\n",
      " 2004 4999    1 4999 1534   34   67   64  205  140   65 1232 4999 4999    1\n",
      " 4999    4    1  223  901   29 3024   69    4    1 4999   10  694    2   65\n",
      " 1534   51   10  216    1  387    8   60    3 1472 3724  802    5 3521  177\n",
      "    1  393   10 1238 4999   30  309    3  353  344 2989  143  130    5 4999\n",
      "   28    4  126 4999 1472 2375    5 4999  309   10  532   12  108 1470    4\n",
      "   58  556  101   12 4999  309    6  227 4187   48    3 2237   12    9  215]\n"
     ]
    },
    {
     "data": {
      "text/plain": [
       "'. . . . . . . . . . . . wrinkled side a to 2 moment you extraordinary she the after think is by ve wrinkled - nervously way why is wrinkled see stroke thing in the wrinkled wrinkled early could of small it wrinkled wrinkled wagon a theory bob of met which a wrinkled the wrinkled of sighed wrinkled the wrinkled ceiling what then about oh much me le wrinkled wrinkled the wrinkled and the ever hardly they dimbleby could and the wrinkled that car , me ceiling or that few the important in their to description collect none of improvement world the nervously that asriel wrinkled she side to clearly example raccoons things understand of wrinkled with and right wrinkled description theresa of wrinkled side that saying it too properly and see nature henry it wrinkled side a also elsewhere from to picking it you ri'"
      ]
     },
     "execution_count": 221,
     "metadata": {},
     "output_type": "execute_result"
    }
   ],
   "source": [
    "print(imdb_train[0])\n",
    "' '.join([idx2word[i] for i in imdb_train[0]])"
   ]
  },
  {
   "cell_type": "code",
   "execution_count": 222,
   "metadata": {
    "collapsed": false
   },
   "outputs": [],
   "source": [
    "train_size = train.shape[0]\n",
    "imdb_sample = np.random.permutation(imdb_train)[:int(train_size/3)]\n",
    "imdb_sample_preds = glove.predict(imdb_sample, batch_size=64)\n",
    "imdb_sample_labels = ([np.argmax(p) for p in imdb_sample_preds])\n",
    "imdb_sample_labels = to_categorical(imdb_sample_labels)\n",
    "train_with_pseudolabeled_data = np.concatenate((train, imdb_sample))\n",
    "labels_with_pseudolabeled_data = np.concatenate((train_labels, imdb_sample_labels))\n",
    "assert len(train_with_pseudolabeled_data) == len(labels_with_pseudolabeled_data)"
   ]
  },
  {
   "cell_type": "code",
   "execution_count": 223,
   "metadata": {
    "collapsed": false
   },
   "outputs": [
    {
     "name": "stdout",
     "output_type": "stream",
     "text": [
      "Train on 16268 samples, validate on 3754 samples\n",
      "Epoch 1/6\n",
      "16268/16268 [==============================] - 10s - loss: 0.1430 - acc: 0.9482 - val_loss: 0.1767 - val_acc: 0.9327\n",
      "Epoch 2/6\n",
      "16268/16268 [==============================] - 10s - loss: 0.1137 - acc: 0.9578 - val_loss: 0.1748 - val_acc: 0.9333\n",
      "Epoch 3/6\n",
      "16268/16268 [==============================] - 10s - loss: 0.1159 - acc: 0.9572 - val_loss: 0.2063 - val_acc: 0.9200\n",
      "Epoch 4/6\n",
      "16268/16268 [==============================] - 10s - loss: 0.1223 - acc: 0.9533 - val_loss: 0.1645 - val_acc: 0.9367\n",
      "Epoch 5/6\n",
      "16268/16268 [==============================] - 10s - loss: 0.1060 - acc: 0.9618 - val_loss: 0.1759 - val_acc: 0.9359\n",
      "Epoch 6/6\n",
      "16268/16268 [==============================] - 10s - loss: 0.0972 - acc: 0.9648 - val_loss: 0.1809 - val_acc: 0.9366\n"
     ]
    },
    {
     "data": {
      "text/plain": [
       "<keras.callbacks.History at 0x7fe6b6bd2650>"
      ]
     },
     "execution_count": 223,
     "metadata": {},
     "output_type": "execute_result"
    }
   ],
   "source": [
    "glove.fit(train_with_pseudolabeled_data, labels_with_pseudolabeled_data, validation_data=(valid,valid_labels), nb_epoch=6, batch_size=64)"
   ]
  },
  {
   "cell_type": "code",
   "execution_count": 160,
   "metadata": {
    "collapsed": false
   },
   "outputs": [
    {
     "name": "stdout",
     "output_type": "stream",
     "text": [
      "Train on 16268 samples, validate on 3754 samples\n",
      "Epoch 1/6\n",
      "16268/16268 [==============================] - 15s - loss: 0.1532 - acc: 0.9421 - val_loss: 0.1603 - val_acc: 0.9347\n",
      "Epoch 2/6\n",
      "16268/16268 [==============================] - 15s - loss: 0.1522 - acc: 0.9407 - val_loss: 0.1682 - val_acc: 0.9292\n",
      "Epoch 3/6\n",
      "16268/16268 [==============================] - 15s - loss: 0.1474 - acc: 0.9428 - val_loss: 0.1695 - val_acc: 0.9301\n",
      "Epoch 4/6\n",
      "16268/16268 [==============================] - 15s - loss: 0.1426 - acc: 0.9442 - val_loss: 0.1795 - val_acc: 0.9285\n",
      "Epoch 5/6\n",
      "16268/16268 [==============================] - 15s - loss: 0.1371 - acc: 0.9466 - val_loss: 0.1665 - val_acc: 0.9340\n",
      "Epoch 6/6\n",
      "16268/16268 [==============================] - 15s - loss: 0.1360 - acc: 0.9470 - val_loss: 0.1786 - val_acc: 0.9259\n"
     ]
    },
    {
     "data": {
      "text/plain": [
       "<keras.callbacks.History at 0x7f6960f12950>"
      ]
     },
     "execution_count": 160,
     "metadata": {},
     "output_type": "execute_result"
    }
   ],
   "source": [
    "glove.optimizer.lr = 0.000001\n",
    "glove.layers[0].trainable = True\n",
    "glove.fit(train_with_pseudolabeled_data, labels_with_pseudolabeled_data, validation_data=(valid,valid_labels), nb_epoch=6, batch_size=64)"
   ]
  }
 ],
 "metadata": {
  "anaconda-cloud": {},
  "kernelspec": {
   "display_name": "Python 2",
   "language": "python",
   "name": "python2"
  },
  "language_info": {
   "codemirror_mode": {
    "name": "ipython",
    "version": 2
   },
   "file_extension": ".py",
   "mimetype": "text/x-python",
   "name": "python",
   "nbconvert_exporter": "python",
   "pygments_lexer": "ipython2",
   "version": "2.7.13"
  }
 },
 "nbformat": 4,
 "nbformat_minor": 1
}
