{
 "cells": [
  {
   "cell_type": "markdown",
   "metadata": {},
   "source": [
    "# Classifier for CEFR Levels"
   ]
  },
  {
   "cell_type": "code",
   "execution_count": 1,
   "metadata": {
    "collapsed": false
   },
   "outputs": [],
   "source": [
    "from theano.sandbox import cuda"
   ]
  },
  {
   "cell_type": "code",
   "execution_count": 2,
   "metadata": {
    "collapsed": false
   },
   "outputs": [
    {
     "name": "stderr",
     "output_type": "stream",
     "text": [
      "Using Theano backend.\n"
     ]
    }
   ],
   "source": [
    "from keras.models import Sequential\n",
    "from keras.layers import Embedding, Dense, Convolution1D, MaxPooling1D, Dropout, Flatten, BatchNormalization"
   ]
  },
  {
   "cell_type": "code",
   "execution_count": 49,
   "metadata": {
    "collapsed": false
   },
   "outputs": [],
   "source": [
    "import numpy as np\n",
    "import string\n",
    "import cPickle as pickle\n",
    "import re\n",
    "import pandas as pd\n",
    "import itertools\n",
    "import bcolz\n",
    "import os\n",
    "from keras.utils.np_utils import to_categorical\n",
    "from keras.utils.data_utils import get_file\n",
    "from keras.preprocessing.sequence import pad_sequences"
   ]
  },
  {
   "cell_type": "markdown",
   "metadata": {},
   "source": [
    "This path can be adjusted as needed; I just dumped the 'sentences' folder from the unzipped file from Giuseppe and put it in the /data directory."
   ]
  },
  {
   "cell_type": "code",
   "execution_count": 13,
   "metadata": {
    "collapsed": true
   },
   "outputs": [],
   "source": [
    "data_path = 'data/sentences/'"
   ]
  },
  {
   "cell_type": "code",
   "execution_count": 5,
   "metadata": {
    "collapsed": true
   },
   "outputs": [],
   "source": [
    "%matplotlib inline"
   ]
  },
  {
   "cell_type": "code",
   "execution_count": 6,
   "metadata": {
    "collapsed": true
   },
   "outputs": [],
   "source": [
    "model_path = 'data/models'"
   ]
  },
  {
   "cell_type": "code",
   "execution_count": 17,
   "metadata": {
    "collapsed": true
   },
   "outputs": [],
   "source": [
    "cefr_levels = ['a1','a2','b1','b2']"
   ]
  },
  {
   "cell_type": "markdown",
   "metadata": {},
   "source": [
    "## Sort data into train, valid, and test sets"
   ]
  },
  {
   "cell_type": "code",
   "execution_count": 48,
   "metadata": {
    "collapsed": false
   },
   "outputs": [
    {
     "data": {
      "text/plain": [
       "u'/home/ubuntu/projects/cefr/data'"
      ]
     },
     "execution_count": 48,
     "metadata": {},
     "output_type": "execute_result"
    }
   ],
   "source": [
    "%pwd"
   ]
  },
  {
   "cell_type": "code",
   "execution_count": 53,
   "metadata": {
    "collapsed": false
   },
   "outputs": [
    {
     "name": "stdout",
     "output_type": "stream",
     "text": [
      "/home/ubuntu/projects/cefr\n"
     ]
    }
   ],
   "source": [
    "%cd data"
   ]
  },
  {
   "cell_type": "code",
   "execution_count": 50,
   "metadata": {
    "collapsed": true
   },
   "outputs": [],
   "source": [
    "%mkdir train\n",
    "%mkdir valid\n",
    "%mkdir test"
   ]
  },
  {
   "cell_type": "code",
   "execution_count": 82,
   "metadata": {
    "collapsed": true
   },
   "outputs": [],
   "source": [
    "train_path = 'data/train/'\n",
    "valid_path = 'data/valid/'\n",
    "test_path =  'data/test/'"
   ]
  },
  {
   "cell_type": "markdown",
   "metadata": {
    "collapsed": true
   },
   "source": [
    "#### Adjust what share of the data you want allocated to each subset."
   ]
  },
  {
   "cell_type": "code",
   "execution_count": 83,
   "metadata": {
    "collapsed": true
   },
   "outputs": [],
   "source": [
    "train_share = 0.6\n",
    "valid_share = 0.2\n",
    "test_share = 0.2\n",
    "assert train_share + valid_share + test_share == 1"
   ]
  },
  {
   "cell_type": "markdown",
   "metadata": {},
   "source": [
    "#### Read the data and randomly sort into subsets.\n",
    "After sorting, arrays are saved to file (w/Pickle) so this step only has to be done once."
   ]
  },
  {
   "cell_type": "code",
   "execution_count": 100,
   "metadata": {
    "collapsed": false
   },
   "outputs": [
    {
     "name": "stdout",
     "output_type": "stream",
     "text": [
      "('a1', 2487)\n",
      "(1492, 1989)\n",
      "('a2', 5110)\n",
      "(3066, 4088)\n",
      "('b1', 6371)\n",
      "(3822, 5096)\n",
      "('b2', 4806)\n",
      "(2883, 3844)\n"
     ]
    }
   ],
   "source": [
    "base_file = '_sentences.txt'\n",
    "train = np.empty((1,2),dtype='object')\n",
    "valid = np.empty((1,2),dtype='object')\n",
    "test  = np.empty((1,2),dtype='object')\n",
    "for l in range(len(cefr_levels)):\n",
    "    level = []\n",
    "    with open(data_path + cefr_levels[l] + base_file,'r') as f:\n",
    "        for line in f:\n",
    "            raw = line.strip().decode('unicode_escape').encode('ascii','ignore')\n",
    "            no_punctuation = raw.translate(None, string.punctuation)\n",
    "            words = no_punctuation.split(' ')\n",
    "            level.append((words,l))\n",
    "    count = len(level)\n",
    "    print(cefr_levels[l],count)\n",
    "    train_idx = int(train_share * count)\n",
    "    valid_idx = int(valid_share * count) + train_idx\n",
    "    shuf = np.random.permutation(level)\n",
    "    train = np.concatenate((train, shuf[:train_idx]))\n",
    "    valid = np.concatenate((valid, shuf[train_idx:valid_idx]))\n",
    "    test  = np.concatenate((test,  shuf[valid_idx:]))\n",
    "\n",
    "pickle.dump(train, open(train_path + \"sentences.p\", 'wb'))  \n",
    "pickle.dump(valid, open(valid_path + \"sentences.p\", 'wb'))\n",
    "pickle.dump(test,  open(test_path + \"sentences.p\", 'wb'))\n"
   ]
  },
  {
   "cell_type": "markdown",
   "metadata": {
    "collapsed": false
   },
   "source": [
    "### Load and process data"
   ]
  },
  {
   "cell_type": "code",
   "execution_count": 101,
   "metadata": {
    "collapsed": true
   },
   "outputs": [],
   "source": [
    "train_file = pickle.load(open(train_path + 'sentences.p','rb'))\n",
    "valid_file = pickle.load(open(valid_path + 'sentences.p','rb'))\n",
    "test_file  = pickle.load(open(test_path + 'sentences.p','rb'))\n",
    "\n",
    "train, train_labels = zip(*train_file)\n",
    "valid, valid_labels = zip(*valid_file)\n",
    "test, test_labels   = zip(*test_file)"
   ]
  },
  {
   "cell_type": "code",
   "execution_count": 102,
   "metadata": {
    "collapsed": false
   },
   "outputs": [
    {
     "name": "stdout",
     "output_type": "stream",
     "text": [
      "(11264, 3755, 3758)\n"
     ]
    }
   ],
   "source": [
    "print(len(train),len(valid),len(test))"
   ]
  },
  {
   "cell_type": "code",
   "execution_count": 103,
   "metadata": {
    "collapsed": false
   },
   "outputs": [
    {
     "name": "stdout",
     "output_type": "stream",
     "text": [
      "(11264, 3755, 3758)\n"
     ]
    }
   ],
   "source": [
    "print(len(train_labels),len(valid_labels),len(test_labels))"
   ]
  },
  {
   "cell_type": "code",
   "execution_count": 106,
   "metadata": {
    "collapsed": false
   },
   "outputs": [
    {
     "name": "stdout",
     "output_type": "stream",
     "text": [
      "['What', 'shall', 'I', 'do', 'Benny', 'asked', 'his', 'grandfather']\n"
     ]
    }
   ],
   "source": [
    "print(train[2500])"
   ]
  },
  {
   "cell_type": "code",
   "execution_count": 107,
   "metadata": {
    "collapsed": false
   },
   "outputs": [
    {
     "name": "stdout",
     "output_type": "stream",
     "text": [
      "1\n"
     ]
    }
   ],
   "source": [
    "print(train_labels[2500])"
   ]
  },
  {
   "cell_type": "markdown",
   "metadata": {},
   "source": [
    "Use one-hot encoding on the labels:"
   ]
  },
  {
   "cell_type": "code",
   "execution_count": 108,
   "metadata": {
    "collapsed": true
   },
   "outputs": [],
   "source": [
    "train_labels = to_categorical(train_labels)\n",
    "valid_labels = to_categorical(valid_labels)\n",
    "test_labels = to_categorical(test_labels)"
   ]
  },
  {
   "cell_type": "code",
   "execution_count": 109,
   "metadata": {
    "collapsed": false
   },
   "outputs": [
    {
     "data": {
      "text/plain": [
       "array([ 0.,  1.,  0.,  0.])"
      ]
     },
     "execution_count": 109,
     "metadata": {},
     "output_type": "execute_result"
    }
   ],
   "source": [
    "train_labels[2500]"
   ]
  }
 ],
 "metadata": {
  "anaconda-cloud": {},
  "kernelspec": {
   "display_name": "Python 2",
   "language": "python",
   "name": "python2"
  },
  "language_info": {
   "codemirror_mode": {
    "name": "ipython",
    "version": 2
   },
   "file_extension": ".py",
   "mimetype": "text/x-python",
   "name": "python",
   "nbconvert_exporter": "python",
   "pygments_lexer": "ipython2",
   "version": "2.7.13"
  }
 },
 "nbformat": 4,
 "nbformat_minor": 1
}
